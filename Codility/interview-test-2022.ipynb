{
 "cells": [
  {
   "attachments": {},
   "cell_type": "markdown",
   "metadata": {},
   "source": [
    "# Interview questions Codility"
   ]
  },
  {
   "attachments": {},
   "cell_type": "markdown",
   "metadata": {},
   "source": [
    "## Convertir enteros en binario\n",
    "+formas: https://www.delftstack.com/howto/python/python-int-to-binary/"
   ]
  },
  {
   "cell_type": "code",
   "execution_count": 39,
   "metadata": {},
   "outputs": [
    {
     "name": "stdout",
     "output_type": "stream",
     "text": [
      "1100\n"
     ]
    }
   ],
   "source": [
    "numb= 12\n",
    "cadena = f'{numb:b}'\n",
    "print(cadena)\n"
   ]
  },
  {
   "cell_type": "code",
   "execution_count": 40,
   "metadata": {},
   "outputs": [
    {
     "name": "stdout",
     "output_type": "stream",
     "text": [
      "1100\n"
     ]
    }
   ],
   "source": [
    "numb = 12\n",
    "bin_numb = bin(numb)[2:] # los dos primeros caracteres no se necesitan\n",
    "print(bin_numb)\n"
   ]
  },
  {
   "attachments": {},
   "cell_type": "markdown",
   "metadata": {},
   "source": [
    "## Print Triangles Shapes with N rows\n",
    "print an upside down triangle made of asterisks (‘*’) separated by spaces and consisting of n rows and make it symmetrical. Consecutive rows should contain 2n − 1, 2n − 3, . . . , 3, 1 asterisks and should be indented by 0, 2, 4, . . . , 2(n − 1) spaces\n",
    " "
   ]
  },
  {
   "cell_type": "code",
   "execution_count": 41,
   "metadata": {},
   "outputs": [],
   "source": [
    "n = 5\n",
    "for i in range(n+1):# si i no llega a n, los casos limite no se cumplen. en este caso que vamos de arrriba a abajo la fila con 1 asteris\n",
    "    row = ''\n",
    "    for j in range(2*i):\n",
    "        row += ' '\n",
    "    for k in range((2*n - 2*i + 1)): # 2n - k, where k = 2i + 1\n",
    "        row += '* '\n",
    "    #print(row)\n"
   ]
  },
  {
   "cell_type": "code",
   "execution_count": 42,
   "metadata": {},
   "outputs": [
    {
     "name": "stdout",
     "output_type": "stream",
     "text": [
      "* * * * * * * * * * * \n",
      "  * * * * * * * * * \n",
      "    * * * * * * * \n",
      "      * * * * * \n",
      "        * * * \n",
      "          * \n"
     ]
    }
   ],
   "source": [
    "n= 5\n",
    "for i in range(n+1):# si i no llega a n, los casos limite no se cumplen. en este caso que vamos de arrriba a abajo la fila con 1 asteris\n",
    "    row = ''\n",
    "    row += ' '*2*i\n",
    "    row += '* '*(2*n - 2*i + 1)# 2n - k, where k = 2i + 1\n",
    "    print(row)"
   ]
  },
  {
   "attachments": {},
   "cell_type": "markdown",
   "metadata": {},
   "source": [
    "## Fibonacci Numbers\n",
    "The first two numbers in the Fibonacci sequence are 0 and 1, and each subse quent number is the sum of the previous two. The first few elements in this sequence are: 0, 1, 1, 2, 3, 5, 8, 13. Write a program that prints all the Fibonacci numbers, not exceeding a given integer n"
   ]
  },
  {
   "cell_type": "code",
   "execution_count": 43,
   "metadata": {},
   "outputs": [
    {
     "name": "stdout",
     "output_type": "stream",
     "text": [
      "0, 1, 1, 2, 3, 5, 8, 13, 21\n"
     ]
    }
   ],
   "source": [
    "n = 21\n",
    "serie = ''\n",
    "\n",
    "a = 0\n",
    "b = 1\n",
    "\n",
    "while a <= n:\n",
    "    serie += str(a) + ', '\n",
    "    c = a + b\n",
    "    a = b\n",
    "    b = c\n",
    "print(serie[:-2])# omitimos la coma del final\n"
   ]
  },
  {
   "attachments": {},
   "cell_type": "markdown",
   "metadata": {},
   "source": [
    "## For loop no se comporta como esperabas\n",
    "\n",
    "cuando iteras sobre un set sin usar un indice. python puede que lo recorra en un orden arbitrario"
   ]
  },
  {
   "cell_type": "code",
   "execution_count": 44,
   "metadata": {},
   "outputs": [
    {
     "name": "stdout",
     "output_type": "stream",
     "text": [
      "Monday\n",
      "Thursday\n",
      "Friday\n",
      "Sunday\n",
      "Tuesday\n",
      "Wednesday\n",
      "Saturday\n"
     ]
    }
   ],
   "source": [
    "days = set(['Monday', 'Tuesday', 'Wednesday', 'Thursday', 'Friday', 'Saturday', 'Sunday'])\n",
    "for day in days:\n",
    "     print(day)"
   ]
  },
  {
   "cell_type": "code",
   "execution_count": 45,
   "metadata": {},
   "outputs": [
    {
     "name": "stdout",
     "output_type": "stream",
     "text": [
      "LUN\n",
      "MAR\n",
      "MIE\n",
      "JUE\n",
      "VIE\n",
      "SAB\n",
      "DOM\n"
     ]
    }
   ],
   "source": [
    "dict = {'LUN':'monday',\n",
    "        'MAR':'martes',\n",
    "        'MIE':'miercoles',\n",
    "        'JUE':'jueves',\n",
    "        'VIE':'viernes',\n",
    "        'SAB':'sabado',\n",
    "        'DOM':'domingo'}\n",
    "for key in dict:\n",
    "    print(key)\n",
    "    "
   ]
  },
  {
   "attachments": {},
   "cell_type": "markdown",
   "metadata": {},
   "source": [
    "## Binary Gap\n",
    "A binary gap within a positive integer N is any maximal sequence of consecutive zeros that is surrounded by ones at both ends in the binary representation of N.\n",
    "\n",
    "For example, number 9 has binary representation 1001 and contains a binary gap of length 2. The number 529 has binary representation 1000010001 and contains two binary gaps: one of length 4 and one of length 3. The number 20 has binary representation 10100 and contains one binary gap of length 1. The number 15 has binary representation 1111 and has no binary gaps. The number 32 has binary representation 100000 and has no binary gaps."
   ]
  },
  {
   "cell_type": "code",
   "execution_count": 46,
   "metadata": {},
   "outputs": [
    {
     "name": "stdout",
     "output_type": "stream",
     "text": [
      "1111111111111111111111111111111\n",
      "0\n"
     ]
    }
   ],
   "source": [
    "def max_gap(N):\n",
    "    gap = 0\n",
    "    binary = bin(N)[2:]    \n",
    "\n",
    "    #binary='11111111'\n",
    "    print(binary)\n",
    "\n",
    "    inicio = -1\n",
    "    current_gap = 0\n",
    "    for i in range(len(binary)):        \n",
    "        if(inicio == -1 and binary[i]=='0'): continue\n",
    "        if(inicio == -1 and binary[i]=='1'): inicio = i\n",
    "        if(inicio != -1 and binary[i]=='0'): current_gap += 1\n",
    "        if(inicio != -1 and binary[i]=='1'): \n",
    "            inicio = i\n",
    "            gap = max(gap, current_gap)\n",
    "            current_gap = 0        \n",
    "    print(gap)\n",
    "    #return(gap)\n",
    "\n",
    "max_gap(2147483647)\n",
    "\n"
   ]
  },
  {
   "attachments": {},
   "cell_type": "markdown",
   "metadata": {},
   "source": [
    "## Reverse List\n"
   ]
  },
  {
   "cell_type": "code",
   "execution_count": 47,
   "metadata": {},
   "outputs": [
    {
     "name": "stdout",
     "output_type": "stream",
     "text": [
      "[9, 8, 7, 6, 5, 4, 3, 2, 1]\n",
      "[9, 8, 7, 6, 5, 4, 3, 2, 1]\n"
     ]
    }
   ],
   "source": [
    "lista = [1,2,3,4,5,6,7,8,9]\n",
    "inverse = lista[::-1]\n",
    "print(inverse)\n",
    "lista.reverse()\n",
    "print(lista)\n"
   ]
  },
  {
   "attachments": {},
   "cell_type": "markdown",
   "metadata": {},
   "source": [
    "## Array rotation\n",
    "\n",
    "An array A consisting of N integers is given. Rotation of the array means that each element is shifted right by one index, and the last element of the array is moved to the first place. For example, the rotation of array A = [3, 8, 9, 7, 6] is [6, 3, 8, 9, 7] (elements are shifted right by one index and 6 is moved to the first place).\n",
    "\n",
    "The goal is to rotate array A K times; that is, each element of A will be shifted to the right K times.\n",
    "\n",
    "Write a function that, given an array A consisting of N integers and an integer K, returns the array A rotated K times.\n",
    "\n",
    "For example, given\n",
    "\n",
    "    A = [3, 8, 9, 7, 6]\n",
    "\n",
    "    K = 3\n",
    "\n",
    "the function should return [9, 7, 6, 3, 8]. Three rotations were made:\n",
    "\n",
    "    [3, 8, 9, 7, 6] -> [6, 3, 8, 9, 7]\n",
    "\n",
    "    [6, 3, 8, 9, 7] -> [7, 6, 3, 8, 9]\n",
    "\n",
    "    [7, 6, 3, 8, 9] -> [9, 7, 6, 3, 8]\n",
    "\n",
    "For another example, given\n",
    "\n",
    "    A = [0, 0, 0]\n",
    "\n",
    "    K = 1\n",
    "\n",
    "the function should return [0, 0, 0]\n",
    "\n",
    "Given\n",
    "\n",
    "    A = [1, 2, 3, 4]\n",
    "    \n",
    "    K = 4\n",
    "\n",
    "the function should return [1, 2, 3, 4]\n",
    "\n",
    "Assume that:\n",
    "\n",
    "        N and K are integers within the range [0..100];\n",
    "        each element of array A is an integer within the range [−1,000..1,000].\n",
    "\n",
    "\n",
    "\n",
    "\n"
   ]
  },
  {
   "cell_type": "code",
   "execution_count": 48,
   "metadata": {},
   "outputs": [
    {
     "name": "stdout",
     "output_type": "stream",
     "text": [
      "[1, 2, 3]\n",
      "[3, 1, 2]\n"
     ]
    }
   ],
   "source": [
    "A = [1,2,3]\n",
    "K = 1\n",
    "\n",
    "print(A)\n",
    "if(len(A)>0):\n",
    "    count_k = 0\n",
    "    while count_k < K:\n",
    "        A.insert(0,A.pop())\n",
    "        count_k += 1\n",
    "\n",
    "print(A)"
   ]
  },
  {
   "attachments": {},
   "cell_type": "markdown",
   "metadata": {},
   "source": [
    "## Odd Occurrences In Array\n",
    "\n",
    "A non-empty array A consisting of N integers is given. The array contains an odd number of elements, and each element of the array can be paired with another element that has the same value, except for one element that is left unpaired.\n",
    "\n",
    "For example, in array A such that:\n",
    "\n",
    "  A[0] = 9  A[1] = 3  A[2] = 9\n",
    "\n",
    "  A[3] = 3  A[4] = 9  A[5] = 7\n",
    "\n",
    "  A[6] = 9\n",
    "\n",
    "        the elements at indexes 0 and 2 have value 9,\n",
    "\n",
    "        the elements at indexes 1 and 3 have value 3,\n",
    "\n",
    "        the elements at indexes 4 and 6 have value 9,\n",
    "\n",
    "        the element at index 5 has value 7 and is unpaired.\n",
    "\n",
    "Write a function:\n",
    "\n",
    "    class Solution { public int solution(int[] A); }\n",
    "\n",
    "that, given an array A consisting of N integers fulfilling the above conditions, returns the value of the unpaired element."
   ]
  },
  {
   "cell_type": "code",
   "execution_count": 49,
   "metadata": {},
   "outputs": [
    {
     "data": {
      "text/plain": [
       "1"
      ]
     },
     "execution_count": 49,
     "metadata": {},
     "output_type": "execute_result"
    }
   ],
   "source": [
    "a = [1,1,0,0,1]\n",
    "\n",
    "def odds(A):\n",
    "    # write your code in Python 3.6\n",
    "    A.sort()\n",
    "    for i in range(0,len(A),2):\n",
    "        if i == len(A) - 1:\n",
    "             return A[i]\n",
    "        elif (A[i] != A[i+1]):\n",
    "            return A[i]\n",
    "    return -1\n",
    "\n",
    "odds(a)"
   ]
  },
  {
   "attachments": {},
   "cell_type": "markdown",
   "metadata": {},
   "source": [
    "## Frog Jump\n",
    "\n",
    "\n",
    "\n",
    "A small frog wants to get to the other side of the road. The frog is currently located at position X and wants to get to a position greater than or equal to Y. The small frog always jumps a fixed distance, D.\n",
    "\n",
    "Count the minimal number of jumps that the small frog must perform to reach its target.\n",
    "\n",
    "Write a function that, given three integers X, Y and D, returns the minimal number of jumps from position X to a position equal to or greater than Y.\n",
    "\n",
    "For example, given:\n",
    "\n",
    "  X = 10\n",
    "\n",
    "  Y = 85\n",
    "\n",
    "  D = 30\n",
    "\n",
    "the function should return 3, because the frog will be positioned as follows:\n",
    "\n",
    "        after the first jump, at position 10 + 30 = 40\n",
    "\n",
    "        after the second jump, at position 10 + 30 + 30 = 70\n",
    "\n",
    "        after the third jump, at position 10 + 30 + 30 + 30 = 100\n",
    "\n",
    "Write an efficient algorithm for the following assumptions:\n",
    "\n",
    "        X, Y and D are integers within the range [1..1,000,000,000];\n",
    "\n",
    "        X ≤ Y.\n",
    "\n"
   ]
  },
  {
   "cell_type": "code",
   "execution_count": 50,
   "metadata": {},
   "outputs": [
    {
     "data": {
      "text/plain": [
       "4"
      ]
     },
     "execution_count": 50,
     "metadata": {},
     "output_type": "execute_result"
    }
   ],
   "source": [
    "# solucion ineficiente\n",
    "def frog_jumps_slow(X,Y,D):\n",
    "    jumps = 0\n",
    "    while X < Y:\n",
    "        jumps += 1\n",
    "        X += D\n",
    "    return jumps\n",
    "\n",
    "frog_jumps_slow(10,21,3)\n"
   ]
  },
  {
   "cell_type": "code",
   "execution_count": 51,
   "metadata": {},
   "outputs": [
    {
     "data": {
      "text/plain": [
       "4"
      ]
     },
     "execution_count": 51,
     "metadata": {},
     "output_type": "execute_result"
    }
   ],
   "source": [
    "# Correct and fast solution\n",
    "import math\n",
    "def frog_jumps(X,Y,D):\n",
    "    d = abs(Y - X)\n",
    "    if d == 0: return 0 # no requiere saltos\n",
    "    else: return int(math.ceil(d/D))# redondear al siguiente entero mas grande. no redondeo hacia abajo\n",
    "\n",
    "frog_jumps(10,21,3)"
   ]
  },
  {
   "attachments": {},
   "cell_type": "markdown",
   "metadata": {},
   "source": [
    "## Find the missing element in a given permutation\n",
    "\n",
    "An array A consisting of N different integers is given. The array contains integers in the range [1..(N + 1)], which means that exactly one element is missing.\n",
    "\n",
    "Your goal is to find that missing element.\n",
    "\n",
    "Write a function that, given an array A, returns the value of the missing element.\n",
    "\n",
    "For example, given array A such that:\n",
    "  \n",
    "  A[0] = 2\n",
    "  \n",
    "  A[1] = 3\n",
    "  \n",
    "  A[2] = 1\n",
    "  \n",
    "  A[3] = 5\n",
    "\n",
    "the function should return 4, as it is the missing element."
   ]
  },
  {
   "cell_type": "code",
   "execution_count": 52,
   "metadata": {},
   "outputs": [
    {
     "name": "stdout",
     "output_type": "stream",
     "text": [
      "[1, 2, 4]\n"
     ]
    },
    {
     "data": {
      "text/plain": [
       "3"
      ]
     },
     "execution_count": 52,
     "metadata": {},
     "output_type": "execute_result"
    }
   ],
   "source": [
    "# casos limite,\n",
    "# arreglo vacio y arreglo de 1 solo elemento\n",
    "def missing(A:list):\n",
    "    A.sort()\n",
    "    print(A)\n",
    "    N = len (A)\n",
    "    if N >1:\n",
    "        for i in range(N-1):\n",
    "            if i == 0 and A[i] !=1 : return 1\n",
    "            if A[i+1] != A[i] + 1 : return A[i] + 1\n",
    "            if i == N-2 and A[N-1] != N + 1: return N + 1 \n",
    "        # si ya termino de recorrer ver si el ultimo elemento es N + 1, si no lo es ese falta\n",
    "    \n",
    "\n",
    "Arr = [2,1,4]\n",
    "missing(Arr)\n",
    "\n"
   ]
  },
  {
   "attachments": {},
   "cell_type": "markdown",
   "metadata": {},
   "source": [
    "## Tape Equilibrium\n",
    "\n",
    "A non-empty array A consisting of N integers is given. Array A represents numbers on a tape.\n",
    "\n",
    "Any integer P, such that 0 < P < N, splits this tape into two non-empty parts:\n",
    "\n",
    " A[0], A[1], ..., A[P − 1] and A[P], A[P + 1], ..., A[N − 1].\n",
    "\n",
    "The difference between the two parts is the value of:\n",
    "\n",
    " |(A[0] + A[1] + ... + A[P − 1]) − (A[P] + A[P + 1] + ... + A[N − 1])|\n",
    "\n",
    "In other words, it is the absolute difference between the sum of the first part and the sum of the second part.\n",
    "\n",
    "For example, consider array A such that:\n",
    "\n",
    "  A[0] = 3\n",
    "\n",
    "  A[1] = 1\n",
    "\n",
    "  A[2] = 2\n",
    "\n",
    "  A[3] = 4\n",
    "\n",
    "  A[4] = 3\n",
    "\n",
    "We can split this tape in four places:\n",
    "\n",
    "        P = 1, difference = |3 − 10| = 7\n",
    "       \n",
    "        P = 2, difference = |4 − 9| = 5\n",
    "       \n",
    "        P = 3, difference = |6 − 7| = 1\n",
    "       \n",
    "        P = 4, difference = |10 − 3| = 7\n",
    "\n",
    "Write a function that, given a non-empty array A of N integers, returns the minimal difference that can be achieved.\n",
    "\n",
    "For example, given:\n",
    "  A[0] = 3\n",
    "  \n",
    "  A[1] = 1\n",
    "  \n",
    "  A[2] = 2\n",
    "  \n",
    "  A[3] = 4\n",
    "  \n",
    "  A[4] = 3\n",
    "\n",
    "the function should return 1, as explained above."
   ]
  },
  {
   "cell_type": "code",
   "execution_count": 53,
   "metadata": {},
   "outputs": [
    {
     "name": "stdout",
     "output_type": "stream",
     "text": [
      "7\n",
      "5\n",
      "1\n",
      "7\n"
     ]
    },
    {
     "data": {
      "text/plain": [
       "1"
      ]
     },
     "execution_count": 53,
     "metadata": {},
     "output_type": "execute_result"
    }
   ],
   "source": [
    "def fun(A):\n",
    "    minimal = 100001\n",
    "    n = len(A)\n",
    "    for P in range(1,n):\n",
    "        current_dif = abs(sum(A[:P]) - sum(A[P:n]))\n",
    "        print(current_dif)\n",
    "        minimal = min(minimal, current_dif)\n",
    "    return minimal\n",
    "\n",
    "BB = [3,1,2,4,3]\n",
    "fun(BB)"
   ]
  },
  {
   "attachments": {},
   "cell_type": "markdown",
   "metadata": {},
   "source": [
    "el problema aqui es que se estan recalculando los mismos valores muchas veces\n",
    "dichos valores que son las sumas de un sub arreglo de arreglo completo, se pueden hallar a partir de otros valores ya conocidos o calculados\n",
    "este problema se resolveria con programacion dinamica"
   ]
  },
  {
   "attachments": {},
   "cell_type": "markdown",
   "metadata": {},
   "source": [
    "## Smallest postive integer\n",
    "given an array A of N integers, return the smallest positive integer (greater than 0) that does not occur in A.\n",
    "\n",
    "For example, given A = [1, 3, 6, 4, 1, 2], the function should return 5.\n",
    "\n",
    "Given A = [1, 2, 3], the function should return 4.\n",
    "\n",
    "Given A = [−1, −3], the function should return 1.\n",
    "\n",
    "Write an efficient algorithm for the following assumptions:\n",
    "\n",
    "        N is an integer within the range [1..100,000];\n",
    "        each element of array A is an integer within the range [−1,000,000..1,000,000].\n",
    "\n"
   ]
  },
  {
   "cell_type": "code",
   "execution_count": 54,
   "metadata": {},
   "outputs": [
    {
     "name": "stdout",
     "output_type": "stream",
     "text": [
      "[2]\n"
     ]
    },
    {
     "data": {
      "text/plain": [
       "3"
      ]
     },
     "execution_count": 54,
     "metadata": {},
     "output_type": "execute_result"
    }
   ],
   "source": [
    "\n",
    "def smallest(A):\n",
    "    \n",
    "    list_set = set(A)# conjutnto de elementos unicos\n",
    "    A = list(list_set)# array with unique values\n",
    "    A.sort()# de menor a mayor\n",
    "   \n",
    "    A_copy = A[:]\n",
    "    A = []\n",
    "    for item in A_copy:\n",
    "        if item > 0: A.append(item)\n",
    "\n",
    "    N = len(A) # tamaño del arreglo\n",
    "    print(A)\n",
    "\n",
    "    smallest_value = 1\n",
    "\n",
    "    found = False # encontro un numero faltante en la secuencia\n",
    "    if(N > 0):\n",
    "        for i in range(N-1):\n",
    "            if A[i+1] != A[i] + 1:\n",
    "                found = True\n",
    "                smallest_value = A[i] + 1\n",
    "                break\n",
    "        if not found:\n",
    "            smallest_value = A[N-1] + 1\n",
    "    return smallest_value\n",
    "\n",
    "         \n",
    "#A = [1, 3, 6, 4, 1, 2,-1]\n",
    "#A = [3,1,2]\n",
    "#A = [-1,-2,-4,-3]\n",
    "#A = [1,2,3,4,7]\n",
    "A =  [2,2,2,2]\n",
    "smallest(A)"
   ]
  },
  {
   "attachments": {},
   "cell_type": "markdown",
   "metadata": {},
   "source": [
    "# Problemas entrevista"
   ]
  },
  {
   "attachments": {},
   "cell_type": "markdown",
   "metadata": {},
   "source": [
    "## Problema 1: Suma de maximos\n",
    "Dada una lista de enteros, se retorna la suma del numero par mas grande con el numero impar mas grande. si no hay numeros pares el maximo par es cero, si no hay numeros impares el maximo impar es cero, si la lista esta vacia la respuesta debe ser 0\n",
    "\n",
    "complejidad O(n) donde n es la cantidad de numeros en la lista"
   ]
  },
  {
   "cell_type": "code",
   "execution_count": 1,
   "metadata": {},
   "outputs": [
    {
     "name": "stdout",
     "output_type": "stream",
     "text": [
      "8\n",
      "9\n"
     ]
    },
    {
     "data": {
      "text/plain": [
       "17"
      ]
     },
     "execution_count": 1,
     "metadata": {},
     "output_type": "execute_result"
    }
   ],
   "source": [
    "def solOne(A):\n",
    "    even_largest = 0\n",
    "    odd_largest = 0\n",
    "    for i in range(len(A)):\n",
    "        if A[i]%2 == 0:\n",
    "            even_largest = max(even_largest, A[i])\n",
    "        elif A[i]%2 != 0:\n",
    "            odd_largest = max(odd_largest, A[i])\n",
    "    print(even_largest)\n",
    "    print(odd_largest)\n",
    "    return even_largest + odd_largest\n",
    "\n",
    "A = [1,2,3,4,5,6,7,8,9,0]\n",
    "solOne(A)"
   ]
  },
  {
   "attachments": {},
   "cell_type": "markdown",
   "metadata": {},
   "source": [
    "## Problema 2: How many BALLOON's\n",
    "\n",
    "dada una cadena de caractares, se quiere saber, usando cada caracter en la lista una sola vez cuantas veces se puede formar la palabra BALLOON\n",
    "\n",
    "complejidad O(n) donde n es el numero de caractares en la cadena de entrada"
   ]
  },
  {
   "cell_type": "code",
   "execution_count": 9,
   "metadata": {},
   "outputs": [
    {
     "name": "stdout",
     "output_type": "stream",
     "text": [
      "2 2 3 3 2\n",
      "2 2 1 1 2\n"
     ]
    },
    {
     "data": {
      "text/plain": [
       "1"
      ]
     },
     "execution_count": 9,
     "metadata": {},
     "output_type": "execute_result"
    }
   ],
   "source": [
    "def solTwo(S:str):\n",
    "    Bs = 0\n",
    "    As = 0\n",
    "    Ls = 0\n",
    "    Os = 0\n",
    "    Ns = 0\n",
    "    for char in S:\n",
    "        if char == 'B': Bs += 1\n",
    "        elif char == 'A': As += 1\n",
    "        elif char == 'L': Ls += 1\n",
    "        elif char == 'O': Os += 1\n",
    "        elif char == 'N': Ns += 1\n",
    "    print(Bs, As, Ls, Os, Ns)\n",
    "    Ls = Ls//2 # division entera\n",
    "    Os = Os//2\n",
    "    print(Bs, As, Ls, Os, Ns)\n",
    "    return min(Bs, As, Ls, Os, Ns)\n",
    "\n",
    "S = 'BALLOON_BALON'\n",
    "solTwo(S)"
   ]
  },
  {
   "attachments": {},
   "cell_type": "markdown",
   "metadata": {},
   "source": [
    "## Problema 3: Minimizar numero de vasos "
   ]
  },
  {
   "cell_type": "code",
   "execution_count": 57,
   "metadata": {},
   "outputs": [
    {
     "data": {
      "text/plain": [
       "1"
      ]
     },
     "execution_count": 57,
     "metadata": {},
     "output_type": "execute_result"
    }
   ],
   "source": [
    "def solThree(N,K):\n",
    "    max_capacity = N*(N+1)/2 # formula serie infinita\n",
    "    if K>max_capacity:# si K es mayor  a la suma de capacidades\n",
    "        return -1\n",
    "    elif K == max_capacity:# se tienen que usar todos los vasos\n",
    "        return N\n",
    "    elif N>= K: # un vaso de mayor capacidad a K puede usarse \n",
    "        return 1\n",
    "    else:# ya sabemos que algun numero de vasos entre (1 y N-1) debe usarse\n",
    "        vasos_usados = 0 # contador para el numero de vasos\n",
    "        capacidad = [0]*N # arrelgo para guardar capacidades respectivas a cada vaso\n",
    "        for i in range(N):# llenar los vasos con sus capacidades respectivas\n",
    "            capacidad[i] = i+1\n",
    "\n",
    "        index = N - 1# ir de mayor a menor en capacidades\n",
    "        while K > 0 and index >= 0:# mientras haya algo por llenar y haya vasos disponibles\n",
    "            if K >= capacidad[index]:# si al vaso le cabe algo del agua a llenar\n",
    "                #se usa este vaso                \n",
    "                K -= capacidad[index]# ahora se tiene menos agua pendiente por llenar\n",
    "                vasos_usados += 1\n",
    "            index -=1\n",
    "        return vasos_usados\n",
    "    \n",
    "\n",
    "solThree(10,5)"
   ]
  }
 ],
 "metadata": {
  "interpreter": {
   "hash": "5f5aea52d08f8c245b88135fed10eda517622796f0f242f9e2f76343b24bc785"
  },
  "kernelspec": {
   "display_name": "Python 3.9.12 ('venv_notebooks')",
   "language": "python",
   "name": "python3"
  },
  "language_info": {
   "codemirror_mode": {
    "name": "ipython",
    "version": 3
   },
   "file_extension": ".py",
   "mimetype": "text/x-python",
   "name": "python",
   "nbconvert_exporter": "python",
   "pygments_lexer": "ipython3",
   "version": "3.9.12"
  },
  "orig_nbformat": 4
 },
 "nbformat": 4,
 "nbformat_minor": 2
}
