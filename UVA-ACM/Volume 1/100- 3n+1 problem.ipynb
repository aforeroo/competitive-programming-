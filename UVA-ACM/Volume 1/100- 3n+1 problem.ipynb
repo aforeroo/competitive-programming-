{
 "cells": [
  {
   "cell_type": "markdown",
   "metadata": {},
   "source": [
    "# The 3n + 1 Problem\n",
    "\n",
    "https://onlinejudge.org/external/1/100.pdf"
   ]
  },
  {
   "cell_type": "code",
   "execution_count": 1,
   "metadata": {},
   "outputs": [
    {
     "name": "stdout",
     "output_type": "stream",
     "text": [
      "22 11 34 17 52 26 13 40 20 10 5 16 8 4 2 1 \n",
      "Cycle Length:  16\n"
     ]
    }
   ],
   "source": [
    "s = ''\n",
    "n = 22\n",
    "cycle_length = 1\n",
    "s += str(n) + ' '\n",
    "while n != 1:\n",
    "    if n%2!=0:\n",
    "        n = 3*n + 1\n",
    "    else:\n",
    "        n = n//2\n",
    "    s += str(n) + ' '\n",
    "    cycle_length += 1\n",
    "print(s)\n",
    "print('Cycle Length: ', cycle_length)    \n"
   ]
  },
  {
   "cell_type": "code",
   "execution_count": 2,
   "metadata": {},
   "outputs": [],
   "source": [
    "def cycle_len(n):\n",
    "    length = 1\n",
    "    while n != 1:\n",
    "        if n%2!=0:\n",
    "            n = 3*n + 1\n",
    "        else:\n",
    "            n = n//2\n",
    "        length+=1\n",
    "    return length\n",
    "\n",
    "   "
   ]
  },
  {
   "cell_type": "code",
   "execution_count": 4,
   "metadata": {},
   "outputs": [],
   "source": [
    "answers = []\n",
    "line = None # cambiar a input de una linea\n",
    "while line:\n",
    "    current_answer = line\n",
    "    i = int(line.split(' ')[0])\n",
    "    j = int(line.split(' ')[1])\n",
    "    max_len = -1\n",
    "    for k in range(i,j+1):\n",
    "        max_len = max(max_len, cycle_len(k))\n",
    "    answers.append(line + ' ' + str(max_len))\n",
    "    line = input()\n",
    "for answer in answers:\n",
    "    print(answer) \n",
    "\n",
    "\n"
   ]
  },
  {
   "cell_type": "markdown",
   "metadata": {},
   "source": [
    "# final format with stdin y stdout"
   ]
  },
  {
   "cell_type": "code",
   "execution_count": null,
   "metadata": {},
   "outputs": [],
   "source": [
    "import sys\n",
    "\n",
    "def cycle_len(n):\n",
    "    length = 1\n",
    "    while n != 1:\n",
    "        if n%2!=0:\n",
    "            n = 3*n + 1\n",
    "        else:\n",
    "            n = n//2\n",
    "        length+=1\n",
    "    return length\n",
    "\n",
    "if __name__ == '__main__':\n",
    "    answers = []\n",
    "    for line in sys.stdin:\n",
    "        current_answer = line\n",
    "        i, j = map(int, line.split()[:2])\n",
    "        max_len = -1\n",
    "        for k in range(min(i,j),max(i,j) + 1):\n",
    "            max_len = max(max_len, cycle_len(k))\n",
    "        answers.append( str(i) + ' ' + str(j) + ' ' + str(max_len) )\n",
    "    for answer in answers:\n",
    "        sys.stdout.write(answer + '\\n')\n",
    "\n",
    "    \n",
    "    \n",
    "\n"
   ]
  }
 ],
 "metadata": {
  "interpreter": {
   "hash": "5f5aea52d08f8c245b88135fed10eda517622796f0f242f9e2f76343b24bc785"
  },
  "kernelspec": {
   "display_name": "Python 3.9.12 ('venv_notebooks')",
   "language": "python",
   "name": "python3"
  },
  "language_info": {
   "codemirror_mode": {
    "name": "ipython",
    "version": 3
   },
   "file_extension": ".py",
   "mimetype": "text/x-python",
   "name": "python",
   "nbconvert_exporter": "python",
   "pygments_lexer": "ipython3",
   "version": "3.9.12"
  },
  "orig_nbformat": 4
 },
 "nbformat": 4,
 "nbformat_minor": 2
}
