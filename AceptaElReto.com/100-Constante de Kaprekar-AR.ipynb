{
 "cells": [
  {
   "cell_type": "markdown",
   "metadata": {},
   "source": [
    "# 100. Constante de Kaprekar\n",
    "\n",
    "https://www.aceptaelreto.com/problem/statement.php?id=100\n"
   ]
  },
  {
   "cell_type": "code",
   "execution_count": 47,
   "metadata": {},
   "outputs": [
    {
     "data": {
      "text/plain": [
       "5"
      ]
     },
     "execution_count": 47,
     "metadata": {},
     "output_type": "execute_result"
    }
   ],
   "source": [
    "#\n",
    "def kaprekar_routine(n:str):    \n",
    "    #paso 1: verificar si el numero es repdigits o no\n",
    "    es_repdigits = True\n",
    "    for i in range(len(n)-1):# verificamos que cada digito sea igual al anterior\n",
    "        es_repdigits = es_repdigits and (n[i] == n[i+1])\n",
    "    if es_repdigits:\n",
    "        return 8\n",
    "    elif n == '6174':\n",
    "        return 0\n",
    "    else:\n",
    "       iteraciones = 0 # numero de iteraciones requeridos antes de llegar a 6174\n",
    "       resultado = 0 # elresultado de la diferencia en cada iteracion\n",
    "       \n",
    "       current_n = list(n) #el numero inicial en forma de lista\n",
    "       \n",
    "       while resultado != 6174:\n",
    "\n",
    "           #primero nos aseguramos que siempre trabajamos con 4 digitos\n",
    "           for zero in range(4-len(current_n)):\n",
    "               current_n = ['0'] + current_n #agregamos ceros a la derecha segun sea necesario\n",
    "\n",
    "           current_n.sort() # orden de menor a mayor\n",
    "           asc_list = current_n # digitos en orden ascendente\n",
    "           des_list = asc_list[::-1] # digitos en orden descendente\n",
    "           \n",
    "           asc = '' # creamos un numero string a partir de la lista ascendente\n",
    "           for digit in asc_list: asc += digit\n",
    "           \n",
    "           des = '' # creamos un numero string a partir de la lista descendente\n",
    "           for digit in des_list: des += digit\n",
    "\n",
    "           resultado = int(des) - int(asc)\n",
    "           current_n = list(str(resultado))\n",
    "           iteraciones +=1\n",
    "       return iteraciones\n",
    "\n",
    "kaprekar_routine('1000')\n",
    "\n"
   ]
  },
  {
   "cell_type": "markdown",
   "metadata": {},
   "source": [
    "# Solucion usando Std.in y Std.out\n",
    "\n",
    "pegar en un script independiente"
   ]
  },
  {
   "cell_type": "code",
   "execution_count": null,
   "metadata": {},
   "outputs": [],
   "source": [
    "import sys\n",
    "\n",
    "if __name__ == '__main__':\n",
    "    answers = []\n",
    "    num_line = 1\n",
    "    for line in sys.stdin:\n",
    "        if num_line != 1:\n",
    "            answers.append(str(kaprekar_routine(line.strip())) + '\\n')\n",
    "        num_line += 1\n",
    "    for line in answers:\n",
    "        sys.stdout.write(line)\n",
    "\n"
   ]
  }
 ],
 "metadata": {
  "interpreter": {
   "hash": "5f5aea52d08f8c245b88135fed10eda517622796f0f242f9e2f76343b24bc785"
  },
  "kernelspec": {
   "display_name": "Python 3.9.12 ('venv_notebooks')",
   "language": "python",
   "name": "python3"
  },
  "language_info": {
   "codemirror_mode": {
    "name": "ipython",
    "version": 3
   },
   "file_extension": ".py",
   "mimetype": "text/x-python",
   "name": "python",
   "nbconvert_exporter": "python",
   "pygments_lexer": "ipython3",
   "version": "3.9.12"
  },
  "orig_nbformat": 4
 },
 "nbformat": 4,
 "nbformat_minor": 2
}
